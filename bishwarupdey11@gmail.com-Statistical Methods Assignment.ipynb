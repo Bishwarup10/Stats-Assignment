{
 "cells": [
  {
   "cell_type": "code",
   "execution_count": 1,
   "metadata": {},
   "outputs": [],
   "source": [
    "import numpy as np\n",
    "import pandas as pd\n",
    "import matplotlib.pyplot as plt\n",
    "import seaborn as sns\n",
    "import scipy.stats as stats\n",
    "%matplotlib inline\n",
    "import math"
   ]
  },
  {
   "cell_type": "code",
   "execution_count": 2,
   "metadata": {},
   "outputs": [],
   "source": [
    "credit = pd.read_csv(\"C:/Users/Bishwarup/Desktop/Analytix Labs/Analytix Labs(Case Study & Assignments)/Basic_Stats_1/creditpromo.csv\")\n",
    "diet = pd.read_csv(\"C:/Users/Bishwarup/Desktop/Analytix Labs/Analytix Labs(Case Study & Assignments)/Basic_Stats_1/dietstudy.csv\")\n",
    "pollination = pd.read_csv(\"C:/Users/Bishwarup/Desktop/Analytix Labs/Analytix Labs(Case Study & Assignments)/Basic_Stats_1/pollination.csv\")\n",
    "dvd = pd.read_csv(\"C:/Users/Bishwarup/Desktop/Analytix Labs/Analytix Labs(Case Study & Assignments)/Basic_Stats_1/dvdplayer.csv\")\n",
    "sample = pd.read_csv(\"C:/Users/Bishwarup/Desktop/Analytix Labs/Analytix Labs(Case Study & Assignments)/Basic_Stats_1/sample_survey.csv\")\n",
    "tolerance = pd.read_csv(\"C:/Users/Bishwarup/Desktop/Analytix Labs/Analytix Labs(Case Study & Assignments)/Basic_Stats_1/tolerance.csv\")"
   ]
  },
  {
   "cell_type": "code",
   "execution_count": 3,
   "metadata": {},
   "outputs": [],
   "source": [
    "#Q1. Weights and triglyceride levels are measured before and after the study."
   ]
  },
  {
   "cell_type": "code",
   "execution_count": 4,
   "metadata": {},
   "outputs": [
    {
     "data": {
      "text/plain": [
       "(0.9962873971415401, 2.581375314291415e-16)"
      ]
     },
     "execution_count": 4,
     "metadata": {},
     "output_type": "execute_result"
    }
   ],
   "source": [
    "#Comparing tg0 with tg4\n",
    "\n",
    "stats.pearsonr(x = diet.tg0, y= diet.tg4)\n",
    "\n",
    "# The triglyceride level has been slightly inversly proportional.\n",
    "\n",
    "#Comparing wgt0 with wgt4\n",
    "stats.pearsonr(x=diet.wgt0, y=diet.wgt4)\n",
    "\n",
    "#The weights of the patients have been strongly directly proportional which is close to a perfect corelation.\n"
   ]
  },
  {
   "cell_type": "code",
   "execution_count": 5,
   "metadata": {},
   "outputs": [
    {
     "data": {
      "text/plain": [
       "(0.21887930415006523, 0.41539057707948285)"
      ]
     },
     "execution_count": 5,
     "metadata": {},
     "output_type": "execute_result"
    }
   ],
   "source": [
    "#We are checking if any measurements has changed.\n",
    "#Both the measurements have changed with time.\n",
    "#We have a positive coreelation which is linear in nature.\n",
    "#The measurements are sightly directly proportional\n",
    "\n",
    "diet.tg0.mean()\n",
    "diet.wgt0.mean()\n",
    "\n",
    "stats.pearsonr(x = diet.tg0, y= diet.wgt0)\n",
    "\n"
   ]
  },
  {
   "cell_type": "code",
   "execution_count": 6,
   "metadata": {},
   "outputs": [
    {
     "data": {
      "text/plain": [
       "(0.10866232312018603, 0.6887284842583259)"
      ]
     },
     "execution_count": 6,
     "metadata": {},
     "output_type": "execute_result"
    }
   ],
   "source": [
    "#We are checking if any measurements has changed.\n",
    "#Both the measurements have changed with time.\n",
    "#We have a positive coreelation which is linear in nature.\n",
    "#The measurements are sightly directly proportional\n",
    "\n",
    "\n",
    "stats.pearsonr(x = diet.tg1, y= diet.wgt1)\n"
   ]
  },
  {
   "cell_type": "code",
   "execution_count": 7,
   "metadata": {},
   "outputs": [
    {
     "data": {
      "text/plain": [
       "(-0.20852264301808981, 0.4383340440660211)"
      ]
     },
     "execution_count": 7,
     "metadata": {},
     "output_type": "execute_result"
    }
   ],
   "source": [
    "#We are checking if any measurements has changed.\n",
    "#Both the measurements have changed with time.\n",
    "#We have a positive coreelation which is linear in nature.\n",
    "#The measurements are sightly inversely proportional\n",
    "\n",
    "stats.pearsonr(x = diet.tg2, y= diet.wgt2)\n"
   ]
  },
  {
   "cell_type": "code",
   "execution_count": 8,
   "metadata": {},
   "outputs": [
    {
     "data": {
      "text/plain": [
       "(0.0428763781612011, 0.8747210405949991)"
      ]
     },
     "execution_count": 8,
     "metadata": {},
     "output_type": "execute_result"
    }
   ],
   "source": [
    "#We are checking if any measurements has changed.\n",
    "#Both the measurements have changed with time.\n",
    "#We have a positive coreelation which is linear in nature.\n",
    "#The measurements are sightly to intermediate directly proportional\n",
    "\n",
    "\n",
    "\n",
    "stats.pearsonr(x = diet.tg3, y= diet.wgt3)\n"
   ]
  },
  {
   "cell_type": "code",
   "execution_count": 9,
   "metadata": {},
   "outputs": [
    {
     "data": {
      "text/plain": [
       "(-0.3541876843555759, 0.17831816012707075)"
      ]
     },
     "execution_count": 9,
     "metadata": {},
     "output_type": "execute_result"
    }
   ],
   "source": [
    "#We are checking if any measurements has changed.\n",
    "#Both the measurements have changed with time.\n",
    "#We have a negative coreelation which is linear in nature.\n",
    "#The measurements are sightly to intermediate inversely proportional\n",
    "\n",
    "stats.pearsonr(x = diet.tg4, y= diet.wgt4)"
   ]
  },
  {
   "cell_type": "code",
   "execution_count": 10,
   "metadata": {},
   "outputs": [],
   "source": [
    "#Q2. \n",
    "#Subsetting the standard and new promotion ads.\n",
    "s = credit[credit.loc[:,'insert']== 'Standard']\n",
    "n = credit[credit.loc[:,'insert']== 'New Promotion']"
   ]
  },
  {
   "cell_type": "code",
   "execution_count": 11,
   "metadata": {},
   "outputs": [
    {
     "data": {
      "text/html": [
       "<div>\n",
       "<style scoped>\n",
       "    .dataframe tbody tr th:only-of-type {\n",
       "        vertical-align: middle;\n",
       "    }\n",
       "\n",
       "    .dataframe tbody tr th {\n",
       "        vertical-align: top;\n",
       "    }\n",
       "\n",
       "    .dataframe thead th {\n",
       "        text-align: right;\n",
       "    }\n",
       "</style>\n",
       "<table border=\"1\" class=\"dataframe\">\n",
       "  <thead>\n",
       "    <tr style=\"text-align: right;\">\n",
       "      <th></th>\n",
       "      <th>id</th>\n",
       "      <th>insert</th>\n",
       "      <th>dollars</th>\n",
       "    </tr>\n",
       "  </thead>\n",
       "  <tbody>\n",
       "    <tr>\n",
       "      <th>0</th>\n",
       "      <td>148</td>\n",
       "      <td>Standard</td>\n",
       "      <td>2232.771979</td>\n",
       "    </tr>\n",
       "    <tr>\n",
       "      <th>1</th>\n",
       "      <td>572</td>\n",
       "      <td>New Promotion</td>\n",
       "      <td>1403.807542</td>\n",
       "    </tr>\n",
       "    <tr>\n",
       "      <th>2</th>\n",
       "      <td>973</td>\n",
       "      <td>Standard</td>\n",
       "      <td>2327.092181</td>\n",
       "    </tr>\n",
       "    <tr>\n",
       "      <th>3</th>\n",
       "      <td>1096</td>\n",
       "      <td>Standard</td>\n",
       "      <td>1280.030541</td>\n",
       "    </tr>\n",
       "    <tr>\n",
       "      <th>4</th>\n",
       "      <td>1541</td>\n",
       "      <td>New Promotion</td>\n",
       "      <td>1513.563200</td>\n",
       "    </tr>\n",
       "    <tr>\n",
       "      <th>...</th>\n",
       "      <td>...</td>\n",
       "      <td>...</td>\n",
       "      <td>...</td>\n",
       "    </tr>\n",
       "    <tr>\n",
       "      <th>495</th>\n",
       "      <td>130163</td>\n",
       "      <td>New Promotion</td>\n",
       "      <td>1513.060134</td>\n",
       "    </tr>\n",
       "    <tr>\n",
       "      <th>496</th>\n",
       "      <td>130204</td>\n",
       "      <td>New Promotion</td>\n",
       "      <td>1020.757943</td>\n",
       "    </tr>\n",
       "    <tr>\n",
       "      <th>497</th>\n",
       "      <td>130255</td>\n",
       "      <td>Standard</td>\n",
       "      <td>1919.856304</td>\n",
       "    </tr>\n",
       "    <tr>\n",
       "      <th>498</th>\n",
       "      <td>130583</td>\n",
       "      <td>Standard</td>\n",
       "      <td>1863.014814</td>\n",
       "    </tr>\n",
       "    <tr>\n",
       "      <th>499</th>\n",
       "      <td>130682</td>\n",
       "      <td>Standard</td>\n",
       "      <td>1295.012183</td>\n",
       "    </tr>\n",
       "  </tbody>\n",
       "</table>\n",
       "<p>500 rows × 3 columns</p>\n",
       "</div>"
      ],
      "text/plain": [
       "         id         insert      dollars\n",
       "0       148       Standard  2232.771979\n",
       "1       572  New Promotion  1403.807542\n",
       "2       973       Standard  2327.092181\n",
       "3      1096       Standard  1280.030541\n",
       "4      1541  New Promotion  1513.563200\n",
       "..      ...            ...          ...\n",
       "495  130163  New Promotion  1513.060134\n",
       "496  130204  New Promotion  1020.757943\n",
       "497  130255       Standard  1919.856304\n",
       "498  130583       Standard  1863.014814\n",
       "499  130682       Standard  1295.012183\n",
       "\n",
       "[500 rows x 3 columns]"
      ]
     },
     "execution_count": 11,
     "metadata": {},
     "output_type": "execute_result"
    }
   ],
   "source": [
    "credit"
   ]
  },
  {
   "cell_type": "code",
   "execution_count": 12,
   "metadata": {},
   "outputs": [
    {
     "data": {
      "text/plain": [
       "1566.3890309659348"
      ]
     },
     "execution_count": 12,
     "metadata": {},
     "output_type": "execute_result"
    }
   ],
   "source": [
    "s.dollars.mean() #Mean of Standard seasonal ads"
   ]
  },
  {
   "cell_type": "code",
   "execution_count": 13,
   "metadata": {},
   "outputs": [
    {
     "data": {
      "text/plain": [
       "1637.4999830647992"
      ]
     },
     "execution_count": 13,
     "metadata": {},
     "output_type": "execute_result"
    }
   ],
   "source": [
    "n.dollars.mean() #Mean of New Promotion"
   ]
  },
  {
   "cell_type": "code",
   "execution_count": 14,
   "metadata": {},
   "outputs": [
    {
     "data": {
      "text/plain": [
       "(0.028453871369634457, 0.654347192426946)"
      ]
     },
     "execution_count": 14,
     "metadata": {},
     "output_type": "execute_result"
    }
   ],
   "source": [
    "stats.ttest_rel(a = s.dollars,\n",
    "               b = n.dollars)\n",
    "\n",
    "#Relational T Test\n",
    "\n",
    "#Corelation check by Pearson R\n",
    "\n",
    "stats.pearsonr(s.dollars,n.dollars)\n"
   ]
  },
  {
   "cell_type": "markdown",
   "metadata": {},
   "source": [
    "We can see the mean has increased after the new promotion meaning that the sales increased in that front. We can be 95% confident about the same.\n",
    "Also, the relational T Test proves that we have a pvalue proving that the null hypothesis is valid.\n",
    "Also, the values are corelated in a linear fashion.\n",
    "\n",
    "The promotion is doing well in respect to the sales of the company as it has increased.\n",
    "\n",
    "\n"
   ]
  },
  {
   "cell_type": "code",
   "execution_count": 15,
   "metadata": {},
   "outputs": [
    {
     "data": {
      "text/plain": [
       "180.8035"
      ]
     },
     "execution_count": 15,
     "metadata": {},
     "output_type": "execute_result"
    }
   ],
   "source": [
    "#Q3(a)\n",
    "pollination.Seed_Yield_Plant.mean()\n",
    "\n",
    "#stats.ttest_1samp(a = pollination.Seed_Yield_Plant,popmean = 180.80)"
   ]
  },
  {
   "cell_type": "markdown",
   "metadata": {},
   "source": [
    "The mean of the Seed Yield/Plant is less than 200."
   ]
  },
  {
   "cell_type": "code",
   "execution_count": 16,
   "metadata": {},
   "outputs": [
    {
     "data": {
      "text/plain": [
       "0    147.70\n",
       "1    136.86\n",
       "2    149.97\n",
       "3    172.33\n",
       "4    144.46\n",
       "5    138.30\n",
       "6    150.58\n",
       "7    140.99\n",
       "8    140.57\n",
       "9    138.33\n",
       "Name: Seed_Yield_Plant, dtype: float64"
      ]
     },
     "execution_count": 16,
     "metadata": {},
     "output_type": "execute_result"
    }
   ],
   "source": [
    "#Q3(b) Filtering Natural and Hand Group for analysis\n",
    "n = pollination[pollination.loc[:,'Group']== 'Natural'] #Natural Group\n",
    "n.Seed_Yield_Plant"
   ]
  },
  {
   "cell_type": "code",
   "execution_count": 17,
   "metadata": {},
   "outputs": [
    {
     "data": {
      "text/plain": [
       "10    224.26\n",
       "11    197.50\n",
       "12    230.34\n",
       "13    217.05\n",
       "14    233.84\n",
       "15    216.52\n",
       "16    211.93\n",
       "17    210.37\n",
       "18    199.87\n",
       "19    214.30\n",
       "Name: Seed_Yield_Plant, dtype: float64"
      ]
     },
     "execution_count": 17,
     "metadata": {},
     "output_type": "execute_result"
    }
   ],
   "source": [
    "h = pollination[pollination.loc[:,'Group']== 'Hand'] # Hand\n",
    "h.Seed_Yield_Plant"
   ]
  },
  {
   "cell_type": "code",
   "execution_count": 18,
   "metadata": {},
   "outputs": [
    {
     "data": {
      "text/plain": [
       "F_onewayResult(statistic=194.83303662980398, pvalue=4.271481585484407e-11)"
      ]
     },
     "execution_count": 18,
     "metadata": {},
     "output_type": "execute_result"
    }
   ],
   "source": [
    "stats.f_oneway(n.Seed_Yield_Plant, h.Seed_Yield_Plant) #ANOVA Test for Fruit Weight\n",
    "\n",
    "#Null Hypothesis is rejected. Variances of both groups are different.\n"
   ]
  },
  {
   "cell_type": "code",
   "execution_count": 19,
   "metadata": {},
   "outputs": [
    {
     "data": {
      "text/plain": [
       "Ttest_relResult(statistic=16.003484109505287, pvalue=6.420421224715851e-08)"
      ]
     },
     "execution_count": 19,
     "metadata": {},
     "output_type": "execute_result"
    }
   ],
   "source": [
    "stats.ttest_rel(a = h.Fruit_Wt, b= n.Fruit_Wt) #T-Test Relational for Fruit Weight"
   ]
  },
  {
   "cell_type": "code",
   "execution_count": 20,
   "metadata": {},
   "outputs": [
    {
     "data": {
      "text/plain": [
       "F_onewayResult(statistic=6.46293337115627, pvalue=0.020428817064110556)"
      ]
     },
     "execution_count": 20,
     "metadata": {},
     "output_type": "execute_result"
    }
   ],
   "source": [
    "stats.f_oneway(n.Seedling_length, h.Seedling_length) #ANOVA Test for Seedling Length\n"
   ]
  },
  {
   "cell_type": "code",
   "execution_count": 21,
   "metadata": {},
   "outputs": [
    {
     "data": {
      "text/plain": [
       "Ttest_relResult(statistic=2.9765905136151303, pvalue=0.015535315669362245)"
      ]
     },
     "execution_count": 21,
     "metadata": {},
     "output_type": "execute_result"
    }
   ],
   "source": [
    "stats.ttest_rel(a = h.Seedling_length, b= n.Seedling_length) #T-Test Relational for Seedling Length"
   ]
  },
  {
   "cell_type": "code",
   "execution_count": 22,
   "metadata": {},
   "outputs": [
    {
     "data": {
      "text/plain": [
       "(0.3117709406774874, 0.38051546240093814)"
      ]
     },
     "execution_count": 22,
     "metadata": {},
     "output_type": "execute_result"
    }
   ],
   "source": [
    "stats.pearsonr(h.Seed_Yield_Plant,n.Seed_Yield_Plant) #The values are directly proportional and related in a linear way."
   ]
  },
  {
   "cell_type": "code",
   "execution_count": 23,
   "metadata": {},
   "outputs": [
    {
     "data": {
      "text/plain": [
       "(0.2844947751910154, 0.42563861992077123)"
      ]
     },
     "execution_count": 23,
     "metadata": {},
     "output_type": "execute_result"
    }
   ],
   "source": [
    "stats.pearsonr(h.Seedling_length, n.Seedling_length) #The values are directly proportional and related in a linear way.\n"
   ]
  },
  {
   "cell_type": "code",
   "execution_count": 24,
   "metadata": {},
   "outputs": [
    {
     "data": {
      "text/plain": [
       "(-0.19042551777830258, 0.5982234700583844)"
      ]
     },
     "execution_count": 24,
     "metadata": {},
     "output_type": "execute_result"
    }
   ],
   "source": [
    "stats.pearsonr(n.Fruit_Wt, n.Seedling_length) #Weak Coreelation (Inversely Proportional) of Natural Fruit weight and Seedling Length"
   ]
  },
  {
   "cell_type": "code",
   "execution_count": 25,
   "metadata": {},
   "outputs": [
    {
     "data": {
      "text/plain": [
       "(0.3946617870619607, 0.2590459303858451)"
      ]
     },
     "execution_count": 25,
     "metadata": {},
     "output_type": "execute_result"
    }
   ],
   "source": [
    "stats.pearsonr(n.Fruit_Wt, n.Seed_Yield_Plant) #Weak Coreelation (Directly Proportional) of Natural Fruit weight and Seedling Yield Plant"
   ]
  },
  {
   "cell_type": "code",
   "execution_count": 26,
   "metadata": {},
   "outputs": [
    {
     "data": {
      "text/plain": [
       "(0.12244405766029798, 0.7361333289292354)"
      ]
     },
     "execution_count": 26,
     "metadata": {},
     "output_type": "execute_result"
    }
   ],
   "source": [
    "stats.pearsonr(h.Fruit_Wt, h.Seed_Yield_Plant) #Weak Coreelation (Directly Proportional) of Hand Fruit weight and Seedling Yield Plant"
   ]
  },
  {
   "cell_type": "code",
   "execution_count": 27,
   "metadata": {},
   "outputs": [
    {
     "data": {
      "text/plain": [
       "(-0.024200415419768473, 0.9470925842902166)"
      ]
     },
     "execution_count": 27,
     "metadata": {},
     "output_type": "execute_result"
    }
   ],
   "source": [
    "stats.pearsonr(h.Fruit_Wt, h.Seedling_length) #Weak Coreelation (Inversely Proportional) of Natural Fruit weight and Seedling Length"
   ]
  },
  {
   "cell_type": "markdown",
   "metadata": {},
   "source": [
    "After all the tests, we conclude that the hand pollination gives us the higher Fruit_Wt, Seed_Yield_Plant and   Seedling_Length than natural pollination and all this data is directly proportional.\n",
    "    \n",
    "Seed Yield and Fruit weight are Directly Proportional for both the types of pollination.\n",
    "Seedling Length and Fruit weight are weakly inversly Proportional for both the types of pollination.\n",
    "\n",
    "We can be 95% confident about the same as from the pvalues.\n",
    " \n",
    " "
   ]
  },
  {
   "cell_type": "code",
   "execution_count": 28,
   "metadata": {},
   "outputs": [
    {
     "data": {
      "text/html": [
       "<div>\n",
       "<style scoped>\n",
       "    .dataframe tbody tr th:only-of-type {\n",
       "        vertical-align: middle;\n",
       "    }\n",
       "\n",
       "    .dataframe tbody tr th {\n",
       "        vertical-align: top;\n",
       "    }\n",
       "\n",
       "    .dataframe thead th {\n",
       "        text-align: right;\n",
       "    }\n",
       "</style>\n",
       "<table border=\"1\" class=\"dataframe\">\n",
       "  <thead>\n",
       "    <tr style=\"text-align: right;\">\n",
       "      <th></th>\n",
       "      <th>agegroup</th>\n",
       "      <th>dvdscore</th>\n",
       "    </tr>\n",
       "  </thead>\n",
       "  <tbody>\n",
       "    <tr>\n",
       "      <th>0</th>\n",
       "      <td>65 and over</td>\n",
       "      <td>38.454803</td>\n",
       "    </tr>\n",
       "    <tr>\n",
       "      <th>1</th>\n",
       "      <td>55-64</td>\n",
       "      <td>17.669677</td>\n",
       "    </tr>\n",
       "    <tr>\n",
       "      <th>2</th>\n",
       "      <td>65 and over</td>\n",
       "      <td>31.704307</td>\n",
       "    </tr>\n",
       "    <tr>\n",
       "      <th>3</th>\n",
       "      <td>65 and over</td>\n",
       "      <td>25.924460</td>\n",
       "    </tr>\n",
       "    <tr>\n",
       "      <th>4</th>\n",
       "      <td>Under 25</td>\n",
       "      <td>30.450007</td>\n",
       "    </tr>\n",
       "    <tr>\n",
       "      <th>...</th>\n",
       "      <td>...</td>\n",
       "      <td>...</td>\n",
       "    </tr>\n",
       "    <tr>\n",
       "      <th>63</th>\n",
       "      <td>45-54</td>\n",
       "      <td>46.567682</td>\n",
       "    </tr>\n",
       "    <tr>\n",
       "      <th>64</th>\n",
       "      <td>65 and over</td>\n",
       "      <td>23.999491</td>\n",
       "    </tr>\n",
       "    <tr>\n",
       "      <th>65</th>\n",
       "      <td>Under 25</td>\n",
       "      <td>24.994419</td>\n",
       "    </tr>\n",
       "    <tr>\n",
       "      <th>66</th>\n",
       "      <td>65 and over</td>\n",
       "      <td>33.538502</td>\n",
       "    </tr>\n",
       "    <tr>\n",
       "      <th>67</th>\n",
       "      <td>45-54</td>\n",
       "      <td>37.201829</td>\n",
       "    </tr>\n",
       "  </tbody>\n",
       "</table>\n",
       "<p>68 rows × 2 columns</p>\n",
       "</div>"
      ],
      "text/plain": [
       "       agegroup   dvdscore\n",
       "0   65 and over  38.454803\n",
       "1         55-64  17.669677\n",
       "2   65 and over  31.704307\n",
       "3   65 and over  25.924460\n",
       "4      Under 25  30.450007\n",
       "..          ...        ...\n",
       "63        45-54  46.567682\n",
       "64  65 and over  23.999491\n",
       "65     Under 25  24.994419\n",
       "66  65 and over  33.538502\n",
       "67        45-54  37.201829\n",
       "\n",
       "[68 rows x 2 columns]"
      ]
     },
     "execution_count": 28,
     "metadata": {},
     "output_type": "execute_result"
    }
   ],
   "source": [
    "#Q4 \n",
    "dvd"
   ]
  },
  {
   "cell_type": "code",
   "execution_count": 29,
   "metadata": {},
   "outputs": [],
   "source": [
    "#Applying ANOVA for two and more ordinal categorical and continous variables.\n",
    "\n",
    "s1 = dvd.dvdscore[dvd.agegroup=='Under 25']\n",
    "s2 = dvd.dvdscore[dvd.agegroup=='25-34']\n",
    "s3 = dvd.dvdscore[dvd.agegroup=='35-44']\n",
    "s4 = dvd.dvdscore[dvd.agegroup=='45-54']\n",
    "s5 = dvd.dvdscore[dvd.agegroup=='55-64']\n",
    "s6 = dvd.dvdscore[dvd.agegroup=='65 and over']\n",
    "\n",
    "#Filtering using loc\n",
    "#dvd.dvdscore[dvd.loc[:,'agegroup']== 'Under 25']"
   ]
  },
  {
   "cell_type": "code",
   "execution_count": 30,
   "metadata": {},
   "outputs": [
    {
     "data": {
      "text/plain": [
       "F_onewayResult(statistic=5.8441662635802984, pvalue=0.0006879000551723672)"
      ]
     },
     "execution_count": 30,
     "metadata": {},
     "output_type": "execute_result"
    }
   ],
   "source": [
    "stats.f_oneway(s1,s2,s3,s4,s5)"
   ]
  },
  {
   "cell_type": "markdown",
   "metadata": {},
   "source": [
    "After applying the ANOVA test, we find that the p value exists, which means that the null hypothesis is not rejected and we can be 95% confident that the variances of the groups are similar; age groups are similar to each other in dvdscore and can say that the age groups did not rate the dvdscore differently."
   ]
  },
  {
   "cell_type": "code",
   "execution_count": 31,
   "metadata": {},
   "outputs": [
    {
     "data": {
      "text/html": [
       "<div>\n",
       "<style scoped>\n",
       "    .dataframe tbody tr th:only-of-type {\n",
       "        vertical-align: middle;\n",
       "    }\n",
       "\n",
       "    .dataframe tbody tr th {\n",
       "        vertical-align: top;\n",
       "    }\n",
       "\n",
       "    .dataframe thead th {\n",
       "        text-align: right;\n",
       "    }\n",
       "</style>\n",
       "<table border=\"1\" class=\"dataframe\">\n",
       "  <thead>\n",
       "    <tr style=\"text-align: right;\">\n",
       "      <th></th>\n",
       "      <th>id</th>\n",
       "      <th>wrkstat</th>\n",
       "      <th>marital</th>\n",
       "      <th>childs</th>\n",
       "      <th>age</th>\n",
       "      <th>educ</th>\n",
       "      <th>paeduc</th>\n",
       "      <th>maeduc</th>\n",
       "      <th>speduc</th>\n",
       "      <th>degree</th>\n",
       "      <th>...</th>\n",
       "      <th>agecat</th>\n",
       "      <th>childcat</th>\n",
       "      <th>news1</th>\n",
       "      <th>news2</th>\n",
       "      <th>news3</th>\n",
       "      <th>news4</th>\n",
       "      <th>news5</th>\n",
       "      <th>car1</th>\n",
       "      <th>car2</th>\n",
       "      <th>car3</th>\n",
       "    </tr>\n",
       "  </thead>\n",
       "  <tbody>\n",
       "    <tr>\n",
       "      <th>0</th>\n",
       "      <td>1</td>\n",
       "      <td>Working full time</td>\n",
       "      <td>Divorced</td>\n",
       "      <td>2.0</td>\n",
       "      <td>60.0</td>\n",
       "      <td>12.0</td>\n",
       "      <td>12.0</td>\n",
       "      <td>12.0</td>\n",
       "      <td>NaN</td>\n",
       "      <td>High school</td>\n",
       "      <td>...</td>\n",
       "      <td>55 to 64</td>\n",
       "      <td>1-2</td>\n",
       "      <td>No</td>\n",
       "      <td>No</td>\n",
       "      <td>No</td>\n",
       "      <td>No</td>\n",
       "      <td>No</td>\n",
       "      <td>American</td>\n",
       "      <td>Japanese</td>\n",
       "      <td>Japanese</td>\n",
       "    </tr>\n",
       "    <tr>\n",
       "      <th>1</th>\n",
       "      <td>2</td>\n",
       "      <td>Working part-time</td>\n",
       "      <td>Never married</td>\n",
       "      <td>0.0</td>\n",
       "      <td>27.0</td>\n",
       "      <td>17.0</td>\n",
       "      <td>20.0</td>\n",
       "      <td>NaN</td>\n",
       "      <td>NaN</td>\n",
       "      <td>Junior college</td>\n",
       "      <td>...</td>\n",
       "      <td>25 to 34</td>\n",
       "      <td>None</td>\n",
       "      <td>No</td>\n",
       "      <td>No</td>\n",
       "      <td>Yes</td>\n",
       "      <td>No</td>\n",
       "      <td>No</td>\n",
       "      <td>American</td>\n",
       "      <td>German</td>\n",
       "      <td>Japanese</td>\n",
       "    </tr>\n",
       "    <tr>\n",
       "      <th>2</th>\n",
       "      <td>3</td>\n",
       "      <td>Working full time</td>\n",
       "      <td>Married</td>\n",
       "      <td>2.0</td>\n",
       "      <td>36.0</td>\n",
       "      <td>12.0</td>\n",
       "      <td>12.0</td>\n",
       "      <td>12.0</td>\n",
       "      <td>16.0</td>\n",
       "      <td>High school</td>\n",
       "      <td>...</td>\n",
       "      <td>35 to 44</td>\n",
       "      <td>1-2</td>\n",
       "      <td>No</td>\n",
       "      <td>No</td>\n",
       "      <td>No</td>\n",
       "      <td>Yes</td>\n",
       "      <td>Yes</td>\n",
       "      <td>American</td>\n",
       "      <td>American</td>\n",
       "      <td>NaN</td>\n",
       "    </tr>\n",
       "    <tr>\n",
       "      <th>3</th>\n",
       "      <td>4</td>\n",
       "      <td>Working full time</td>\n",
       "      <td>Never married</td>\n",
       "      <td>0.0</td>\n",
       "      <td>21.0</td>\n",
       "      <td>13.0</td>\n",
       "      <td>NaN</td>\n",
       "      <td>12.0</td>\n",
       "      <td>NaN</td>\n",
       "      <td>High school</td>\n",
       "      <td>...</td>\n",
       "      <td>Less than 25</td>\n",
       "      <td>None</td>\n",
       "      <td>No</td>\n",
       "      <td>No</td>\n",
       "      <td>No</td>\n",
       "      <td>Yes</td>\n",
       "      <td>Yes</td>\n",
       "      <td>American</td>\n",
       "      <td>Other</td>\n",
       "      <td>NaN</td>\n",
       "    </tr>\n",
       "    <tr>\n",
       "      <th>4</th>\n",
       "      <td>5</td>\n",
       "      <td>Working full time</td>\n",
       "      <td>Never married</td>\n",
       "      <td>0.0</td>\n",
       "      <td>35.0</td>\n",
       "      <td>16.0</td>\n",
       "      <td>NaN</td>\n",
       "      <td>12.0</td>\n",
       "      <td>NaN</td>\n",
       "      <td>Bachelor</td>\n",
       "      <td>...</td>\n",
       "      <td>35 to 44</td>\n",
       "      <td>None</td>\n",
       "      <td>No</td>\n",
       "      <td>No</td>\n",
       "      <td>No</td>\n",
       "      <td>No</td>\n",
       "      <td>No</td>\n",
       "      <td>American</td>\n",
       "      <td>American</td>\n",
       "      <td>Korean</td>\n",
       "    </tr>\n",
       "    <tr>\n",
       "      <th>...</th>\n",
       "      <td>...</td>\n",
       "      <td>...</td>\n",
       "      <td>...</td>\n",
       "      <td>...</td>\n",
       "      <td>...</td>\n",
       "      <td>...</td>\n",
       "      <td>...</td>\n",
       "      <td>...</td>\n",
       "      <td>...</td>\n",
       "      <td>...</td>\n",
       "      <td>...</td>\n",
       "      <td>...</td>\n",
       "      <td>...</td>\n",
       "      <td>...</td>\n",
       "      <td>...</td>\n",
       "      <td>...</td>\n",
       "      <td>...</td>\n",
       "      <td>...</td>\n",
       "      <td>...</td>\n",
       "      <td>...</td>\n",
       "      <td>...</td>\n",
       "    </tr>\n",
       "    <tr>\n",
       "      <th>2827</th>\n",
       "      <td>2828</td>\n",
       "      <td>Working full time</td>\n",
       "      <td>Married</td>\n",
       "      <td>2.0</td>\n",
       "      <td>73.0</td>\n",
       "      <td>14.0</td>\n",
       "      <td>8.0</td>\n",
       "      <td>12.0</td>\n",
       "      <td>12.0</td>\n",
       "      <td>Junior college</td>\n",
       "      <td>...</td>\n",
       "      <td>65 or older</td>\n",
       "      <td>1-2</td>\n",
       "      <td>No</td>\n",
       "      <td>No</td>\n",
       "      <td>No</td>\n",
       "      <td>No</td>\n",
       "      <td>No</td>\n",
       "      <td>American</td>\n",
       "      <td>American</td>\n",
       "      <td>German</td>\n",
       "    </tr>\n",
       "    <tr>\n",
       "      <th>2828</th>\n",
       "      <td>2829</td>\n",
       "      <td>Working full time</td>\n",
       "      <td>Divorced</td>\n",
       "      <td>0.0</td>\n",
       "      <td>40.0</td>\n",
       "      <td>12.0</td>\n",
       "      <td>12.0</td>\n",
       "      <td>12.0</td>\n",
       "      <td>NaN</td>\n",
       "      <td>High school</td>\n",
       "      <td>...</td>\n",
       "      <td>35 to 44</td>\n",
       "      <td>None</td>\n",
       "      <td>No</td>\n",
       "      <td>No</td>\n",
       "      <td>No</td>\n",
       "      <td>No</td>\n",
       "      <td>No</td>\n",
       "      <td>Japanese</td>\n",
       "      <td>NaN</td>\n",
       "      <td>NaN</td>\n",
       "    </tr>\n",
       "    <tr>\n",
       "      <th>2829</th>\n",
       "      <td>2830</td>\n",
       "      <td>Retired</td>\n",
       "      <td>Married</td>\n",
       "      <td>0.0</td>\n",
       "      <td>73.0</td>\n",
       "      <td>6.0</td>\n",
       "      <td>4.0</td>\n",
       "      <td>NaN</td>\n",
       "      <td>10.0</td>\n",
       "      <td>LT High school</td>\n",
       "      <td>...</td>\n",
       "      <td>65 or older</td>\n",
       "      <td>None</td>\n",
       "      <td>Yes</td>\n",
       "      <td>No</td>\n",
       "      <td>Yes</td>\n",
       "      <td>No</td>\n",
       "      <td>No</td>\n",
       "      <td>Korean</td>\n",
       "      <td>American</td>\n",
       "      <td>American</td>\n",
       "    </tr>\n",
       "    <tr>\n",
       "      <th>2830</th>\n",
       "      <td>2831</td>\n",
       "      <td>Working full time</td>\n",
       "      <td>Never married</td>\n",
       "      <td>0.0</td>\n",
       "      <td>47.0</td>\n",
       "      <td>12.0</td>\n",
       "      <td>12.0</td>\n",
       "      <td>12.0</td>\n",
       "      <td>NaN</td>\n",
       "      <td>High school</td>\n",
       "      <td>...</td>\n",
       "      <td>45 to 54</td>\n",
       "      <td>None</td>\n",
       "      <td>No</td>\n",
       "      <td>No</td>\n",
       "      <td>No</td>\n",
       "      <td>No</td>\n",
       "      <td>No</td>\n",
       "      <td>Japanese</td>\n",
       "      <td>NaN</td>\n",
       "      <td>NaN</td>\n",
       "    </tr>\n",
       "    <tr>\n",
       "      <th>2831</th>\n",
       "      <td>2832</td>\n",
       "      <td>Working part-time</td>\n",
       "      <td>Never married</td>\n",
       "      <td>0.0</td>\n",
       "      <td>20.0</td>\n",
       "      <td>10.0</td>\n",
       "      <td>NaN</td>\n",
       "      <td>NaN</td>\n",
       "      <td>NaN</td>\n",
       "      <td>LT High school</td>\n",
       "      <td>...</td>\n",
       "      <td>Less than 25</td>\n",
       "      <td>None</td>\n",
       "      <td>No</td>\n",
       "      <td>No</td>\n",
       "      <td>No</td>\n",
       "      <td>No</td>\n",
       "      <td>No</td>\n",
       "      <td>Swedish</td>\n",
       "      <td>American</td>\n",
       "      <td>German</td>\n",
       "    </tr>\n",
       "  </tbody>\n",
       "</table>\n",
       "<p>2832 rows × 46 columns</p>\n",
       "</div>"
      ],
      "text/plain": [
       "        id            wrkstat        marital  childs   age  educ  paeduc  \\\n",
       "0        1  Working full time       Divorced     2.0  60.0  12.0    12.0   \n",
       "1        2  Working part-time  Never married     0.0  27.0  17.0    20.0   \n",
       "2        3  Working full time        Married     2.0  36.0  12.0    12.0   \n",
       "3        4  Working full time  Never married     0.0  21.0  13.0     NaN   \n",
       "4        5  Working full time  Never married     0.0  35.0  16.0     NaN   \n",
       "...    ...                ...            ...     ...   ...   ...     ...   \n",
       "2827  2828  Working full time        Married     2.0  73.0  14.0     8.0   \n",
       "2828  2829  Working full time       Divorced     0.0  40.0  12.0    12.0   \n",
       "2829  2830            Retired        Married     0.0  73.0   6.0     4.0   \n",
       "2830  2831  Working full time  Never married     0.0  47.0  12.0    12.0   \n",
       "2831  2832  Working part-time  Never married     0.0  20.0  10.0     NaN   \n",
       "\n",
       "      maeduc  speduc          degree  ...        agecat childcat news1 news2  \\\n",
       "0       12.0     NaN     High school  ...      55 to 64      1-2    No    No   \n",
       "1        NaN     NaN  Junior college  ...      25 to 34     None    No    No   \n",
       "2       12.0    16.0     High school  ...      35 to 44      1-2    No    No   \n",
       "3       12.0     NaN     High school  ...  Less than 25     None    No    No   \n",
       "4       12.0     NaN        Bachelor  ...      35 to 44     None    No    No   \n",
       "...      ...     ...             ...  ...           ...      ...   ...   ...   \n",
       "2827    12.0    12.0  Junior college  ...   65 or older      1-2    No    No   \n",
       "2828    12.0     NaN     High school  ...      35 to 44     None    No    No   \n",
       "2829     NaN    10.0  LT High school  ...   65 or older     None   Yes    No   \n",
       "2830    12.0     NaN     High school  ...      45 to 54     None    No    No   \n",
       "2831     NaN     NaN  LT High school  ...  Less than 25     None    No    No   \n",
       "\n",
       "      news3 news4 news5      car1      car2      car3  \n",
       "0        No    No    No  American  Japanese  Japanese  \n",
       "1       Yes    No    No  American    German  Japanese  \n",
       "2        No   Yes   Yes  American  American       NaN  \n",
       "3        No   Yes   Yes  American     Other       NaN  \n",
       "4        No    No    No  American  American    Korean  \n",
       "...     ...   ...   ...       ...       ...       ...  \n",
       "2827     No    No    No  American  American    German  \n",
       "2828     No    No    No  Japanese       NaN       NaN  \n",
       "2829    Yes    No    No    Korean  American  American  \n",
       "2830     No    No    No  Japanese       NaN       NaN  \n",
       "2831     No    No    No   Swedish  American    German  \n",
       "\n",
       "[2832 rows x 46 columns]"
      ]
     },
     "execution_count": 31,
     "metadata": {},
     "output_type": "execute_result"
    }
   ],
   "source": [
    "#Q5\n",
    "sample"
   ]
  },
  {
   "cell_type": "code",
   "execution_count": 32,
   "metadata": {},
   "outputs": [
    {
     "name": "stdout",
     "output_type": "stream",
     "text": [
      "<class 'pandas.core.frame.DataFrame'>\n",
      "RangeIndex: 2832 entries, 0 to 2831\n",
      "Data columns (total 46 columns):\n",
      " #   Column    Non-Null Count  Dtype  \n",
      "---  ------    --------------  -----  \n",
      " 0   id        2832 non-null   int64  \n",
      " 1   wrkstat   2831 non-null   object \n",
      " 2   marital   2831 non-null   object \n",
      " 3   childs    2825 non-null   float64\n",
      " 4   age       2828 non-null   float64\n",
      " 5   educ      2820 non-null   float64\n",
      " 6   paeduc    2041 non-null   float64\n",
      " 7   maeduc    2399 non-null   float64\n",
      " 8   speduc    1311 non-null   float64\n",
      " 9   degree    2822 non-null   object \n",
      " 10  sex       2832 non-null   object \n",
      " 11  race      2832 non-null   object \n",
      " 12  born      2819 non-null   object \n",
      " 13  parborn   2812 non-null   object \n",
      " 14  granborn  2630 non-null   float64\n",
      " 15  income    2503 non-null   object \n",
      " 16  rincome   1849 non-null   object \n",
      " 17  polviews  2691 non-null   object \n",
      " 18  cappun    2599 non-null   object \n",
      " 19  postlife  2066 non-null   object \n",
      " 20  happy     2806 non-null   object \n",
      " 21  hapmar    1337 non-null   object \n",
      " 22  owngun    1869 non-null   object \n",
      " 23  news      1870 non-null   object \n",
      " 24  tvhours   2337 non-null   float64\n",
      " 25  howpaid   1347 non-null   object \n",
      " 26  ethnic    2238 non-null   object \n",
      " 27  eth1      2557 non-null   object \n",
      " 28  eth2      1102 non-null   object \n",
      " 29  eth3      444 non-null    object \n",
      " 30  confinan  1864 non-null   object \n",
      " 31  conbus    1821 non-null   object \n",
      " 32  coneduc   1881 non-null   object \n",
      " 33  conpress  1862 non-null   object \n",
      " 34  conmedic  1875 non-null   object \n",
      " 35  contv     1876 non-null   object \n",
      " 36  agecat    2828 non-null   object \n",
      " 37  childcat  2825 non-null   object \n",
      " 38  news1     2832 non-null   object \n",
      " 39  news2     2832 non-null   object \n",
      " 40  news3     2832 non-null   object \n",
      " 41  news4     2832 non-null   object \n",
      " 42  news5     2832 non-null   object \n",
      " 43  car1      2832 non-null   object \n",
      " 44  car2      2266 non-null   object \n",
      " 45  car3      1672 non-null   object \n",
      "dtypes: float64(8), int64(1), object(37)\n",
      "memory usage: 1017.9+ KB\n"
     ]
    }
   ],
   "source": [
    "sample.info() #We have some null values"
   ]
  },
  {
   "cell_type": "code",
   "execution_count": 33,
   "metadata": {},
   "outputs": [
    {
     "data": {
      "text/plain": [
       "0       Working full time\n",
       "1       Working part-time\n",
       "2       Working full time\n",
       "3       Working full time\n",
       "4       Working full time\n",
       "              ...        \n",
       "2827    Working full time\n",
       "2828    Working full time\n",
       "2829              Retired\n",
       "2830    Working full time\n",
       "2831    Working part-time\n",
       "Name: wrkstat, Length: 2832, dtype: object"
      ]
     },
     "execution_count": 33,
     "metadata": {},
     "output_type": "execute_result"
    }
   ],
   "source": [
    "#Q5.a\n",
    "#Relation between labour force and martial status\n",
    "\n",
    "sample.marital\n",
    "sample.wrkstat\n",
    "\n",
    "#If we need to check the relation between two categorical variables, we will use the chi-square method"
   ]
  },
  {
   "cell_type": "code",
   "execution_count": 34,
   "metadata": {},
   "outputs": [
    {
     "data": {
      "text/html": [
       "<div>\n",
       "<style scoped>\n",
       "    .dataframe tbody tr th:only-of-type {\n",
       "        vertical-align: middle;\n",
       "    }\n",
       "\n",
       "    .dataframe tbody tr th {\n",
       "        vertical-align: top;\n",
       "    }\n",
       "\n",
       "    .dataframe thead th {\n",
       "        text-align: right;\n",
       "    }\n",
       "</style>\n",
       "<table border=\"1\" class=\"dataframe\">\n",
       "  <thead>\n",
       "    <tr style=\"text-align: right;\">\n",
       "      <th>wrkstat</th>\n",
       "      <th>Keeping house</th>\n",
       "      <th>Other</th>\n",
       "      <th>Retired</th>\n",
       "      <th>School</th>\n",
       "      <th>Temporarily not working</th>\n",
       "      <th>Unemployed, laid off</th>\n",
       "      <th>Working full time</th>\n",
       "      <th>Working part-time</th>\n",
       "    </tr>\n",
       "    <tr>\n",
       "      <th>marital</th>\n",
       "      <th></th>\n",
       "      <th></th>\n",
       "      <th></th>\n",
       "      <th></th>\n",
       "      <th></th>\n",
       "      <th></th>\n",
       "      <th></th>\n",
       "      <th></th>\n",
       "    </tr>\n",
       "  </thead>\n",
       "  <tbody>\n",
       "    <tr>\n",
       "      <th>Divorced</th>\n",
       "      <td>25</td>\n",
       "      <td>12</td>\n",
       "      <td>53</td>\n",
       "      <td>7</td>\n",
       "      <td>9</td>\n",
       "      <td>10</td>\n",
       "      <td>295</td>\n",
       "      <td>35</td>\n",
       "    </tr>\n",
       "    <tr>\n",
       "      <th>Married</th>\n",
       "      <td>200</td>\n",
       "      <td>16</td>\n",
       "      <td>168</td>\n",
       "      <td>9</td>\n",
       "      <td>23</td>\n",
       "      <td>13</td>\n",
       "      <td>778</td>\n",
       "      <td>138</td>\n",
       "    </tr>\n",
       "    <tr>\n",
       "      <th>Never married</th>\n",
       "      <td>35</td>\n",
       "      <td>14</td>\n",
       "      <td>17</td>\n",
       "      <td>60</td>\n",
       "      <td>11</td>\n",
       "      <td>32</td>\n",
       "      <td>392</td>\n",
       "      <td>102</td>\n",
       "    </tr>\n",
       "    <tr>\n",
       "      <th>Separated</th>\n",
       "      <td>13</td>\n",
       "      <td>4</td>\n",
       "      <td>6</td>\n",
       "      <td>2</td>\n",
       "      <td>1</td>\n",
       "      <td>0</td>\n",
       "      <td>58</td>\n",
       "      <td>9</td>\n",
       "    </tr>\n",
       "    <tr>\n",
       "      <th>Widowed</th>\n",
       "      <td>55</td>\n",
       "      <td>8</td>\n",
       "      <td>150</td>\n",
       "      <td>1</td>\n",
       "      <td>2</td>\n",
       "      <td>3</td>\n",
       "      <td>44</td>\n",
       "      <td>20</td>\n",
       "    </tr>\n",
       "  </tbody>\n",
       "</table>\n",
       "</div>"
      ],
      "text/plain": [
       "wrkstat        Keeping house  Other  Retired  School  Temporarily not working  \\\n",
       "marital                                                                         \n",
       "Divorced                  25     12       53       7                        9   \n",
       "Married                  200     16      168       9                       23   \n",
       "Never married             35     14       17      60                       11   \n",
       "Separated                 13      4        6       2                        1   \n",
       "Widowed                   55      8      150       1                        2   \n",
       "\n",
       "wrkstat        Unemployed, laid off  Working full time  Working part-time  \n",
       "marital                                                                    \n",
       "Divorced                         10                295                 35  \n",
       "Married                          13                778                138  \n",
       "Never married                    32                392                102  \n",
       "Separated                         0                 58                  9  \n",
       "Widowed                           3                 44                 20  "
      ]
     },
     "execution_count": 34,
     "metadata": {},
     "output_type": "execute_result"
    }
   ],
   "source": [
    "#CrossTab\n",
    "\n",
    "a = pd.crosstab(index= sample.marital, columns = sample.wrkstat)\n",
    "a"
   ]
  },
  {
   "cell_type": "code",
   "execution_count": 35,
   "metadata": {},
   "outputs": [
    {
     "data": {
      "text/plain": [
       "(729.2421426572284,\n",
       " 1.4875268409067568e-135,\n",
       " 28,\n",
       " array([[ 51.69187279,   8.51024735,  62.09328622,  12.45017668,\n",
       "           7.24946996,   9.14063604, 246.95477032,  47.90954064],\n",
       "        [155.8869258 ,  25.66431095, 187.25441696,  37.5459364 ,\n",
       "          21.86219081,  27.56537102, 744.74028269, 144.48056537],\n",
       "        [ 76.84240283,  12.65088339,  92.30459364,  18.50777385,\n",
       "          10.77667845,  13.58798587, 367.10989399,  71.21978799],\n",
       "        [ 10.77879859,   1.7745583 ,  12.94770318,   2.59611307,\n",
       "           1.51166078,   1.90600707,  51.495053  ,   9.99010601],\n",
       "        [ 32.8       ,   5.4       ,  39.4       ,   7.9       ,\n",
       "           4.6       ,   5.8       , 156.7       ,  30.4       ]]))"
      ]
     },
     "execution_count": 35,
     "metadata": {},
     "output_type": "execute_result"
    }
   ],
   "source": [
    "#Chi square test for categorical variables\n",
    "\n",
    "\n",
    "stats.chi2_contingency(observed = a)"
   ]
  },
  {
   "cell_type": "markdown",
   "metadata": {},
   "source": [
    "p value is very low so we will reject the null hypothesis.\n",
    "As per the alternative hypothesis, They are dependent variables and directly corelate with each other categorically.\n",
    "We can be 99% confident about the same."
   ]
  },
  {
   "cell_type": "code",
   "execution_count": 36,
   "metadata": {},
   "outputs": [
    {
     "data": {
      "text/html": [
       "<div>\n",
       "<style scoped>\n",
       "    .dataframe tbody tr th:only-of-type {\n",
       "        vertical-align: middle;\n",
       "    }\n",
       "\n",
       "    .dataframe tbody tr th {\n",
       "        vertical-align: top;\n",
       "    }\n",
       "\n",
       "    .dataframe thead th {\n",
       "        text-align: right;\n",
       "    }\n",
       "</style>\n",
       "<table border=\"1\" class=\"dataframe\">\n",
       "  <thead>\n",
       "    <tr style=\"text-align: right;\">\n",
       "      <th>degree</th>\n",
       "      <th>Bachelor</th>\n",
       "      <th>Graduate</th>\n",
       "      <th>High school</th>\n",
       "      <th>Junior college</th>\n",
       "      <th>LT High school</th>\n",
       "    </tr>\n",
       "    <tr>\n",
       "      <th>marital</th>\n",
       "      <th></th>\n",
       "      <th></th>\n",
       "      <th></th>\n",
       "      <th></th>\n",
       "      <th></th>\n",
       "    </tr>\n",
       "  </thead>\n",
       "  <tbody>\n",
       "    <tr>\n",
       "      <th>Divorced</th>\n",
       "      <td>58</td>\n",
       "      <td>29</td>\n",
       "      <td>241</td>\n",
       "      <td>45</td>\n",
       "      <td>70</td>\n",
       "    </tr>\n",
       "    <tr>\n",
       "      <th>Married</th>\n",
       "      <td>251</td>\n",
       "      <td>123</td>\n",
       "      <td>686</td>\n",
       "      <td>108</td>\n",
       "      <td>174</td>\n",
       "    </tr>\n",
       "    <tr>\n",
       "      <th>Never married</th>\n",
       "      <td>129</td>\n",
       "      <td>41</td>\n",
       "      <td>367</td>\n",
       "      <td>46</td>\n",
       "      <td>77</td>\n",
       "    </tr>\n",
       "    <tr>\n",
       "      <th>Separated</th>\n",
       "      <td>12</td>\n",
       "      <td>3</td>\n",
       "      <td>58</td>\n",
       "      <td>3</td>\n",
       "      <td>17</td>\n",
       "    </tr>\n",
       "    <tr>\n",
       "      <th>Widowed</th>\n",
       "      <td>28</td>\n",
       "      <td>9</td>\n",
       "      <td>148</td>\n",
       "      <td>6</td>\n",
       "      <td>92</td>\n",
       "    </tr>\n",
       "  </tbody>\n",
       "</table>\n",
       "</div>"
      ],
      "text/plain": [
       "degree         Bachelor  Graduate  High school  Junior college  LT High school\n",
       "marital                                                                       \n",
       "Divorced             58        29          241              45              70\n",
       "Married             251       123          686             108             174\n",
       "Never married       129        41          367              46              77\n",
       "Separated            12         3           58               3              17\n",
       "Widowed              28         9          148               6              92"
      ]
     },
     "execution_count": 36,
     "metadata": {},
     "output_type": "execute_result"
    }
   ],
   "source": [
    "#Q5 b. Educational qualification with marital status\n",
    "\n",
    "sample.marital\n",
    "sample.degree\n",
    "\n",
    "#CrossTab\n",
    "b = pd.crosstab(index = sample.marital, columns = sample.degree)\n",
    "b\n",
    "#"
   ]
  },
  {
   "cell_type": "code",
   "execution_count": 37,
   "metadata": {},
   "outputs": [
    {
     "data": {
      "text/plain": [
       "(122.68449020508541,\n",
       " 1.6707923432360119e-18,\n",
       " 16,\n",
       " array([[ 75.06345268,  32.19248493, 235.55476781,  32.66359447,\n",
       "          67.52570011],\n",
       "        [227.39312301,  97.52215526, 713.57674583,  98.94930876,\n",
       "         204.55866714],\n",
       "        [111.83268345,  47.9617157 , 350.9393832 ,  48.66359447,\n",
       "         100.60262318],\n",
       "        [ 15.75824176,   6.75824176,  49.45054945,   6.85714286,\n",
       "          14.17582418],\n",
       "        [ 47.95249911,  20.56540234, 150.4785537 ,  20.86635945,\n",
       "          43.1371854 ]]))"
      ]
     },
     "execution_count": 37,
     "metadata": {},
     "output_type": "execute_result"
    }
   ],
   "source": [
    "#Chi square test for categorical variables\n",
    "\n",
    "stats.chi2_contingency(observed = b)"
   ]
  },
  {
   "cell_type": "markdown",
   "metadata": {},
   "source": [
    "p value is very low so we will reject the null hypothesis.\n",
    "As per the alternative hypothesis, They are dependent variables and directly corelate with each other categorically.\n",
    "Education qualification is indeed controlling the marital status.\n",
    "We can be 99% confident about the same."
   ]
  },
  {
   "cell_type": "code",
   "execution_count": 38,
   "metadata": {},
   "outputs": [
    {
     "data": {
      "text/plain": [
       "0       $25000 or more\n",
       "1       $15000 - 19999\n",
       "2       $25000 or more\n",
       "3       $15000 - 19999\n",
       "4       $25000 or more\n",
       "             ...      \n",
       "2827    $20000 - 24999\n",
       "2828    $15000 - 19999\n",
       "2829    $20000 - 24999\n",
       "2830    $25000 or more\n",
       "2831    $25000 or more\n",
       "Name: income, Length: 2832, dtype: object"
      ]
     },
     "execution_count": 38,
     "metadata": {},
     "output_type": "execute_result"
    }
   ],
   "source": [
    "#Q5. (c)\n",
    "#All three are ordinal categorical variables\n",
    "sample.happy #Categorical\n",
    "sample.marital #Categorical\n",
    "sample.income # Categorical"
   ]
  },
  {
   "cell_type": "code",
   "execution_count": 39,
   "metadata": {},
   "outputs": [],
   "source": [
    "#Checking the happiness with earnings\n",
    "\n",
    "c = pd.crosstab(index = sample.happy, columns = sample.income)"
   ]
  },
  {
   "cell_type": "code",
   "execution_count": 40,
   "metadata": {},
   "outputs": [
    {
     "data": {
      "text/plain": [
       "(178.9505306121643,\n",
       " 1.4107677273473057e-26,\n",
       " 22,\n",
       " array([[  3.89520355,  23.12777106,  21.66706973,  29.82265216,\n",
       "         191.35187424,   2.92140266,   3.89520355,   4.26037888,\n",
       "           4.01692866,   5.72108021,   7.06005643,   4.26037888],\n",
       "        [ 18.16041919, 107.82748892, 101.01733172, 139.04070939,\n",
       "         892.1305925 ,  13.62031439,  18.16041919,  19.86295848,\n",
       "          18.72793229,  26.67311568,  32.91575977,  19.86295848],\n",
       "        [  9.94437727,  59.04474002,  55.31559855,  76.13663845,\n",
       "         488.51753325,   7.45828295,   9.94437727,  10.87666264,\n",
       "          10.25513906,  14.60580411,  18.0241838 ,  10.87666264]]))"
      ]
     },
     "execution_count": 40,
     "metadata": {},
     "output_type": "execute_result"
    }
   ],
   "source": [
    "#Chi-Square Test\n",
    "\n",
    "stats.chi2_contingency(observed = c )"
   ]
  },
  {
   "cell_type": "markdown",
   "metadata": {},
   "source": [
    "p value is very low so we will reject the null hypothesis.\n",
    "As per the alternative hypothesis, They are dependent variables and directly corelate with each other categorically.\n",
    "We are 99% confident about the testing."
   ]
  },
  {
   "cell_type": "code",
   "execution_count": 41,
   "metadata": {},
   "outputs": [
    {
     "data": {
      "text/html": [
       "<div>\n",
       "<style scoped>\n",
       "    .dataframe tbody tr th:only-of-type {\n",
       "        vertical-align: middle;\n",
       "    }\n",
       "\n",
       "    .dataframe tbody tr th {\n",
       "        vertical-align: top;\n",
       "    }\n",
       "\n",
       "    .dataframe thead th {\n",
       "        text-align: right;\n",
       "    }\n",
       "</style>\n",
       "<table border=\"1\" class=\"dataframe\">\n",
       "  <thead>\n",
       "    <tr style=\"text-align: right;\">\n",
       "      <th>marital</th>\n",
       "      <th>Divorced</th>\n",
       "      <th>Married</th>\n",
       "      <th>Never married</th>\n",
       "      <th>Separated</th>\n",
       "      <th>Widowed</th>\n",
       "    </tr>\n",
       "    <tr>\n",
       "      <th>happy</th>\n",
       "      <th></th>\n",
       "      <th></th>\n",
       "      <th></th>\n",
       "      <th></th>\n",
       "      <th></th>\n",
       "    </tr>\n",
       "  </thead>\n",
       "  <tbody>\n",
       "    <tr>\n",
       "      <th>Not too happy</th>\n",
       "      <td>72</td>\n",
       "      <td>71</td>\n",
       "      <td>108</td>\n",
       "      <td>30</td>\n",
       "      <td>59</td>\n",
       "    </tr>\n",
       "    <tr>\n",
       "      <th>Pretty happy</th>\n",
       "      <td>278</td>\n",
       "      <td>684</td>\n",
       "      <td>426</td>\n",
       "      <td>49</td>\n",
       "      <td>137</td>\n",
       "    </tr>\n",
       "    <tr>\n",
       "      <th>Very happy</th>\n",
       "      <td>93</td>\n",
       "      <td>582</td>\n",
       "      <td>120</td>\n",
       "      <td>13</td>\n",
       "      <td>83</td>\n",
       "    </tr>\n",
       "  </tbody>\n",
       "</table>\n",
       "</div>"
      ],
      "text/plain": [
       "marital        Divorced  Married  Never married  Separated  Widowed\n",
       "happy                                                              \n",
       "Not too happy        72       71            108         30       59\n",
       "Pretty happy        278      684            426         49      137\n",
       "Very happy           93      582            120         13       83"
      ]
     },
     "execution_count": 41,
     "metadata": {},
     "output_type": "execute_result"
    }
   ],
   "source": [
    "#Checking the happiness with martial status\n",
    "\n",
    "d = pd.crosstab(index = sample.happy, columns = sample.marital)\n",
    "d"
   ]
  },
  {
   "cell_type": "code",
   "execution_count": 42,
   "metadata": {},
   "outputs": [
    {
     "data": {
      "text/plain": [
       "(260.6894389418282,\n",
       " 9.3147261197964e-52,\n",
       " 8,\n",
       " array([[ 53.6969697 , 162.06060606,  79.27272727,  11.15151515,\n",
       "          33.81818182],\n",
       "        [248.58538324, 750.24527629, 366.98609626,  51.62495544,\n",
       "         156.55828877],\n",
       "        [140.71764706, 424.69411765, 207.74117647,  29.22352941,\n",
       "          88.62352941]]))"
      ]
     },
     "execution_count": 42,
     "metadata": {},
     "output_type": "execute_result"
    }
   ],
   "source": [
    "#Chi-Square Test\n",
    "\n",
    "stats.chi2_contingency(observed = d)"
   ]
  },
  {
   "cell_type": "markdown",
   "metadata": {},
   "source": [
    "p value is very low so we will reject the null hypothesis. As per the alternative hypothesis, They are dependent variables and directly corelate with each other categorically. We are 99% confident about the testing.\n"
   ]
  },
  {
   "cell_type": "markdown",
   "metadata": {},
   "source": [
    "Hence, happiness is driven with both martial status and earnings"
   ]
  }
 ],
 "metadata": {
  "kernelspec": {
   "display_name": "Python 3",
   "language": "python",
   "name": "python3"
  },
  "language_info": {
   "codemirror_mode": {
    "name": "ipython",
    "version": 3
   },
   "file_extension": ".py",
   "mimetype": "text/x-python",
   "name": "python",
   "nbconvert_exporter": "python",
   "pygments_lexer": "ipython3",
   "version": "3.8.5"
  }
 },
 "nbformat": 4,
 "nbformat_minor": 2
}
